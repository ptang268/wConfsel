{
 "cells": [
  {
   "cell_type": "code",
   "execution_count": 1,
   "id": "e979f710-279c-4089-a937-ab5cd9f9faf0",
   "metadata": {},
   "outputs": [
    {
     "name": "stdout",
     "output_type": "stream",
     "text": [
      "Coefficients: [ 1.01081541 -0.04899497 -1.0154869 ]\n",
      "Intercept: 0.009063600572148424\n",
      "R-squared: 0.36966406726639056\n"
     ]
    }
   ],
   "source": [
    "import numpy as np\n",
    "import pandas as pd\n",
    "\n",
    "from sklearn.linear_model import LinearRegression\n",
    "from sklearn.metrics import mean_squared_error\n",
    "from ConfSelect import weighted_BH, weighted_CS, eval_sel\n",
    "q=0.5\n",
    "quantile = 0.9\n",
    "\n",
    "# Initialize lists to store results for each metric\n",
    "results_fdp = []\n",
    "results_power = []\n",
    "results_nsel = []\n",
    "\n",
    "#seed = 8\n",
    "\n",
    "# Loop over 100 different seeds\n",
    "for seed in range(1, 101):\n",
    "    \n",
    "# Step 1: Generate samples\n",
    "np.random.seed(seed)  # For reproducibility\n",
    "X1 = np.random.normal(0.5, 0.5, 16000)\n",
    "X2 = np.random.normal(0.5, 0.5, 1000)\n",
    "\n",
    "# Step 2: Combine X1 and X2, generate Y\n",
    "X = np.concatenate((X1, X2))\n",
    "e = np.random.normal(0, 0.3, X.shape[0])\n",
    "Y = - X + X**3 + e\n",
    "\n",
    "# Preparing the data for linear regression (adding X^2 and X^3)\n",
    "X_poly = np.vstack([X, X**2, X**3]).T\n",
    "#X_poly = np.vstack([X]).T\n",
    "\n",
    "# Model for X1\n",
    "X1_poly = np.vstack([X1, X1**2, X1**3]).T\n",
    "#X1_poly = np.vstack([X1]).T\n",
    "\n",
    "# Model for X2\n",
    "X2_poly = np.vstack([X2, X2**2, X2**3]).T\n",
    "#X2_poly = np.vstack([X2]).T\n",
    "\n",
    "#model for training dataset\n",
    "ttrain = X1_poly[:8000]\n",
    "model = LinearRegression().fit(ttrain, Y[:8000])\n",
    "\n",
    "print(\"Coefficients:\", model.coef_)\n",
    "print(\"Intercept:\", model.intercept_)\n",
    "# Calculating the R-squared value\n",
    "r_squared = model.score(ttrain, Y[:8000])\n",
    "\n",
    "# Printing the R-squared value\n",
    "print(\"R-squared:\", r_squared)\n",
    "\n",
    "y_train = Y[:8000]"
   ]
  },
  {
   "cell_type": "code",
   "execution_count": 2,
   "id": "c24d5d1f-bc06-41e4-a462-d07d1340ccbe",
   "metadata": {},
   "outputs": [],
   "source": [
    "dcalib = X1_poly[8000:16000]\n",
    "dtest = X2_poly\n",
    "\n",
    "dother = np.concatenate((dcalib,dtest))\n",
    "all_pred = model.predict(dother)\n",
    "train_pred = model.predict(ttrain)\n",
    "\n",
    "\n",
    "hat_mu_calib = np.array(model.predict(dcalib))\n",
    "hat_mu_test = np.array(model.predict(dtest))\n",
    "y_calib = Y[8000:16000]\n",
    "w_calib = np.exp(-(dcalib[:, 0]+0.28)**2/(2*0.375*0.375))\n",
    "y_test = Y[16000:]\n",
    "w_test = np.exp(-(dtest[:, 0]+0.28)**2/(2*0.375*0.375))"
   ]
  },
  {
   "cell_type": "code",
   "execution_count": 3,
   "id": "7a8a8aba-88c8-485e-8f03-c2214b420159",
   "metadata": {},
   "outputs": [
    {
     "name": "stdout",
     "output_type": "stream",
     "text": [
      "[0.96904436 0.07149548 0.77392968 ... 0.86773692 0.43122453 0.75282245]\n"
     ]
    }
   ],
   "source": [
    "print(w_calib)"
   ]
  },
  {
   "cell_type": "code",
   "execution_count": 4,
   "id": "5084b574-3709-4849-b7a9-08886ca0d76b",
   "metadata": {},
   "outputs": [
    {
     "name": "stdout",
     "output_type": "stream",
     "text": [
      "in sample R^2 Score: 0.36966406726639056\n",
      "in of sample R^2 Score: 0.3696640672663905\n",
      "Mean Squared Error: 0.09034283895724604\n",
      "out of sample R^2 Score: 0.8187940373549232\n",
      "out of sample R^2 Score: 0.9217490241997026\n",
      "498.564382973413\n"
     ]
    }
   ],
   "source": [
    "# Calculate in sample R^2 Score\n",
    "y_trmean = np.mean(y_train)\n",
    "ss_tot = np.sum((y_train - y_trmean) ** 2)\n",
    "ss_res = np.sum((y_train - train_pred) ** 2)\n",
    "ss_reg = np.sum((y_trmean - train_pred) **2)\n",
    "r2 = 1 - (ss_res / ss_tot)\n",
    "print(f\"in sample R^2 Score: {r2}\")\n",
    "r22 = (ss_reg / ss_tot)\n",
    "print(f\"in of sample R^2 Score: {r22}\")\n",
    "\n",
    "# Calculate MSE\n",
    "mse = np.mean((y_test - hat_mu_test) ** 2)\n",
    "print(f\"Mean Squared Error: {mse}\")\n",
    "\n",
    "# Calculate out of sample R^2 Score\n",
    "y_mean = np.mean(y_test)\n",
    "ss_tot = np.sum((y_test - y_mean) ** 2)\n",
    "ss_res = np.sum((y_test - hat_mu_test) ** 2)\n",
    "ss_reg = np.sum((hat_mu_test - y_mean) ** 2)\n",
    "r2 = 1 - (ss_res / ss_tot)\n",
    "print(f\"out of sample R^2 Score: {r2}\")\n",
    "r22 = (ss_reg / ss_tot)\n",
    "print(f\"out of sample R^2 Score: {r22}\")\n",
    "print(ss_tot)"
   ]
  },
  {
   "cell_type": "code",
   "execution_count": 5,
   "id": "517ecb2c-136b-4496-bcf7-21ba237bd5c1",
   "metadata": {},
   "outputs": [],
   "source": [
    "\n",
    "\n",
    "\n",
    "#c = 0\n",
    "c = np.quantile(y_train, quantile) \n",
    "\n",
    " \n",
    "calib_scores_res = y_calib - hat_mu_calib\n",
    "calib_scores_sub = - hat_mu_calib \n",
    "calib_scores_clip = 100 * (y_calib > c) + c * (y_calib <= c) - hat_mu_calib\n",
    " \n",
    "test_scores = c - hat_mu_test\n",
    "\n",
    " \n",
    "# ========================= \n",
    "# ## weighted BH procedure\n",
    "# ========================= \n",
    "\n",
    "# use scores res, sub, and clip\n",
    "#BH_res = weighted_BH(calib_scores_res, w_calib, test_scores, w_test, q)  \n",
    "#BH_sub = weighted_BH(calib_scores_sub[y_calib <= c], w_calib[y_calib<=c], test_scores, w_test, q) \n",
    "BH_clip = weighted_BH(calib_scores_clip, w_calib, test_scores, w_test, q)\n"
   ]
  },
  {
   "cell_type": "code",
   "execution_count": 6,
   "id": "de23bcb6-716d-40c4-9113-502ce520a7a1",
   "metadata": {},
   "outputs": [
    {
     "name": "stdout",
     "output_type": "stream",
     "text": [
      "        FDP     power  nsel  ndiff  nsame score method    q  seed\n",
      "0  0.000000  0.000000     0      0      0   res    WBH  0.5     8\n",
      "1  0.000000  0.000000     0      0      0   sub    WBH  0.5     8\n",
      "2  0.766252  0.994118   723      0    723  clip    WBH  0.5     8\n"
     ]
    }
   ],
   "source": [
    "# =============================================================================\n",
    "# # summarize FDP, power and selection sizes\n",
    "# =============================================================================\n",
    "\n",
    "\n",
    "#BH_res_fdp, BH_res_power = eval_sel(BH_res, y_test, np.array([c]*len(y_test)))\n",
    "#BH_sub_fdp, BH_sub_power = eval_sel(BH_sub, y_test, np.array([c]*len(y_test)))\n",
    "#BH_clip_fdp, BH_clip_power = eval_sel(BH_clip, y_test, np.array([c]*len(y_test))) \n",
    "\n",
    "# Assuming BH_res[0] contains the integer indices you want to use for evaluation\n",
    "#BH_res_indices = BH_res[0]\n",
    "# Now pass these indices to the eval_sel function\n",
    "#BH_res_fdp, BH_res_power = eval_sel(BH_res_indices, y_test, np.array([c]*len(y_test)))\n",
    "\n",
    "# Assuming BH_sub[0] contains the integer indices for the \"sub\" case\n",
    "#BH_sub_indices = BH_sub[0]\n",
    "# Now pass these indices to the eval_sel function\n",
    "#BH_sub_fdp, BH_sub_power = eval_sel(BH_sub_indices, y_test, np.array([c]*len(y_test)))\n",
    "\n",
    "# Assuming BH_clip[0] contains the integer indices for the \"clip\" case\n",
    "BH_clip_indices = BH_clip[0]\n",
    "# Now pass these indices to the eval_sel function\n",
    "BH_clip_fdp, BH_clip_power = eval_sel(BH_clip_indices, y_test, np.array([c]*len(y_test)))\n",
    "\n",
    "\n",
    "# Organize BH results for DataFrame\n",
    "#fdp = [BH_res_fdp, BH_sub_fdp, BH_clip_fdp]\n",
    "#power = [BH_res_power, BH_sub_power, BH_clip_power]\n",
    "#nsel = [len(BH_res_indices), len(BH_sub_indices), len(BH_clip_indices)]\n",
    "#ndiff = [0] * 3  # Assuming no difference for BH-only results\n",
    "#nsame = [len(BH_res_indices), len(BH_sub_indices), len(BH_clip_indices)]  # Assuming all selections are the same for BH-only results\n",
    "\n",
    "\n",
    "\n",
    "\n",
    "\n",
    "# Create DataFrame for BH-only results\n",
    "res_BH_only = pd.DataFrame({\n",
    "    \"FDP\": fdp,\n",
    "    \"power\": power,\n",
    "    \"nsel\": nsel,\n",
    "    \"ndiff\": ndiff,\n",
    "    \"nsame\": nsame,\n",
    "    \"score\": [\"res\", \"sub\", \"clip\"],\n",
    "    \"method\": [\"WBH\"] * 3,\n",
    "    \"q\": q,\n",
    "    \"seed\": seed\n",
    "})\n",
    "\n",
    "# If you want to print or use res_BH_only DataFrame\n",
    "print(res_BH_only)"
   ]
  },
  {
   "cell_type": "code",
   "execution_count": null,
   "id": "4c4854d1-369b-4096-8ec0-4eac5227c0ef",
   "metadata": {},
   "outputs": [],
   "source": []
  }
 ],
 "metadata": {
  "kernelspec": {
   "display_name": "Python 3 (ipykernel)",
   "language": "python",
   "name": "python3"
  },
  "language_info": {
   "codemirror_mode": {
    "name": "ipython",
    "version": 3
   },
   "file_extension": ".py",
   "mimetype": "text/x-python",
   "name": "python",
   "nbconvert_exporter": "python",
   "pygments_lexer": "ipython3",
   "version": "3.11.8"
  }
 },
 "nbformat": 4,
 "nbformat_minor": 5
}
